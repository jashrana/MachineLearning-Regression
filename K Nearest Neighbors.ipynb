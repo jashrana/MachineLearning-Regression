{
 "cells": [
  {
   "cell_type": "code",
   "execution_count": 16,
   "id": "01f305ce",
   "metadata": {},
   "outputs": [],
   "source": [
    "import pandas as pd\n",
    "from sklearn.neighbors import KNeighborsRegressor\n",
    "from sklearn.preprocessing import StandardScaler\n",
    "from sklearn.model_selection import TimeSeriesSplit\n",
    "from sklearn.metrics import r2_score"
   ]
  },
  {
   "cell_type": "code",
   "execution_count": 17,
   "id": "0f986bcd",
   "metadata": {},
   "outputs": [],
   "source": [
    "train_data = pd.read_csv('train.csv')\n",
    "test_data = pd.read_csv('test.csv')"
   ]
  },
  {
   "cell_type": "code",
   "execution_count": 18,
   "id": "badb8d4f",
   "metadata": {},
   "outputs": [],
   "source": [
    "z = {'A': 0, 'B': 1, 'C': 2}\n",
    "train_data.var2 = [z[item] for item in train_data.var2]\n",
    "test_data.var2 = [z[item] for item in test_data.var2]"
   ]
  },
  {
   "cell_type": "code",
   "execution_count": 19,
   "id": "871744fb",
   "metadata": {},
   "outputs": [
    {
     "name": "stdout",
     "output_type": "stream",
     "text": [
      "0    25239\n",
      "2     1040\n",
      "1      217\n",
      "Name: var2, dtype: int64 \n",
      "\n",
      "0    8177\n",
      "2     324\n",
      "1      67\n",
      "Name: var2, dtype: int64\n"
     ]
    }
   ],
   "source": [
    "print(train_data['var2'].value_counts(), '\\n')\n",
    "print(test_data['var2'].value_counts())\n"
   ]
  },
  {
   "cell_type": "code",
   "execution_count": 20,
   "id": "19c42ed4",
   "metadata": {},
   "outputs": [],
   "source": [
    "train_data['datetime'] = pd.to_datetime(train_data['datetime'])\n",
    "train_data.set_index('datetime', inplace=True)\n",
    "\n",
    "test_data['datetime'] = pd.to_datetime(test_data['datetime'])\n",
    "test_data.set_index('datetime', inplace=True)\n"
   ]
  },
  {
   "cell_type": "code",
   "execution_count": 21,
   "id": "ae58aa9f",
   "metadata": {},
   "outputs": [],
   "source": [
    "X = train_data.drop(['ID','electricity_consumption'], axis = 1)\n",
    "y = train_data['electricity_consumption']\n",
    "test_data = test_data.drop('ID', axis = 1)"
   ]
  },
  {
   "cell_type": "code",
   "execution_count": 22,
   "id": "a8d2f20f",
   "metadata": {},
   "outputs": [],
   "source": [
    "tscv = TimeSeriesSplit(n_splits = 100)"
   ]
  },
  {
   "cell_type": "code",
   "execution_count": 23,
   "id": "67a850ad",
   "metadata": {},
   "outputs": [],
   "source": [
    "for train_index, test_index in tscv.split(X):\n",
    "    X_train, X_test = X.iloc[train_index, :], X.iloc[test_index,:]\n",
    "    y_train, y_test = y.iloc[train_index], y.iloc[test_index]"
   ]
  },
  {
   "cell_type": "code",
   "execution_count": 24,
   "id": "fc5057c0",
   "metadata": {},
   "outputs": [],
   "source": [
    "scaler = StandardScaler()\n",
    "X_scaled_train = scaler.fit_transform(X_train)\n",
    "X_scaled_test = scaler.transform(X_test)"
   ]
  },
  {
   "cell_type": "code",
   "execution_count": 25,
   "id": "215c78ad",
   "metadata": {},
   "outputs": [],
   "source": [
    "knn = KNeighborsRegressor()"
   ]
  },
  {
   "cell_type": "code",
   "execution_count": 26,
   "id": "f119ab19",
   "metadata": {},
   "outputs": [],
   "source": [
    "knn.fit(X_scaled_train, y_train)\n",
    "y_pred = knn.predict(X_scaled_test)"
   ]
  },
  {
   "cell_type": "code",
   "execution_count": 27,
   "id": "c515085d",
   "metadata": {},
   "outputs": [
    {
     "name": "stdout",
     "output_type": "stream",
     "text": [
      "R2 Score: 0.40052368156517204\n"
     ]
    }
   ],
   "source": [
    "R2 = r2_score(y_test, y_pred)\n",
    "print(f'R2 Score: {R2}')"
   ]
  },
  {
   "cell_type": "code",
   "execution_count": 28,
   "id": "a174566e",
   "metadata": {},
   "outputs": [],
   "source": [
    "test_pred = knn.predict(scaler.transform(test_data))"
   ]
  },
  {
   "cell_type": "code",
   "execution_count": 29,
   "id": "663f7508",
   "metadata": {},
   "outputs": [],
   "source": [
    "test_data['consumption_predictions'] = test_pred"
   ]
  },
  {
   "cell_type": "code",
   "execution_count": 30,
   "id": "c374b420",
   "metadata": {},
   "outputs": [
    {
     "data": {
      "text/html": [
       "<div>\n",
       "<style scoped>\n",
       "    .dataframe tbody tr th:only-of-type {\n",
       "        vertical-align: middle;\n",
       "    }\n",
       "\n",
       "    .dataframe tbody tr th {\n",
       "        vertical-align: top;\n",
       "    }\n",
       "\n",
       "    .dataframe thead th {\n",
       "        text-align: right;\n",
       "    }\n",
       "</style>\n",
       "<table border=\"1\" class=\"dataframe\">\n",
       "  <thead>\n",
       "    <tr style=\"text-align: right;\">\n",
       "      <th></th>\n",
       "      <th>temperature</th>\n",
       "      <th>var1</th>\n",
       "      <th>pressure</th>\n",
       "      <th>windspeed</th>\n",
       "      <th>var2</th>\n",
       "      <th>consumption_predictions</th>\n",
       "    </tr>\n",
       "    <tr>\n",
       "      <th>datetime</th>\n",
       "      <th></th>\n",
       "      <th></th>\n",
       "      <th></th>\n",
       "      <th></th>\n",
       "      <th></th>\n",
       "      <th></th>\n",
       "    </tr>\n",
       "  </thead>\n",
       "  <tbody>\n",
       "    <tr>\n",
       "      <th>2013-07-24 00:00:00</th>\n",
       "      <td>-10.0</td>\n",
       "      <td>-16.4</td>\n",
       "      <td>1011.0</td>\n",
       "      <td>263.280</td>\n",
       "      <td>0</td>\n",
       "      <td>205.8</td>\n",
       "    </tr>\n",
       "    <tr>\n",
       "      <th>2013-07-24 01:00:00</th>\n",
       "      <td>-10.0</td>\n",
       "      <td>-20.7</td>\n",
       "      <td>1011.0</td>\n",
       "      <td>267.175</td>\n",
       "      <td>0</td>\n",
       "      <td>204.0</td>\n",
       "    </tr>\n",
       "    <tr>\n",
       "      <th>2013-07-24 02:00:00</th>\n",
       "      <td>-10.7</td>\n",
       "      <td>-17.1</td>\n",
       "      <td>1003.0</td>\n",
       "      <td>269.555</td>\n",
       "      <td>0</td>\n",
       "      <td>201.6</td>\n",
       "    </tr>\n",
       "    <tr>\n",
       "      <th>2013-07-24 03:00:00</th>\n",
       "      <td>-13.6</td>\n",
       "      <td>-20.7</td>\n",
       "      <td>1008.0</td>\n",
       "      <td>273.060</td>\n",
       "      <td>0</td>\n",
       "      <td>199.8</td>\n",
       "    </tr>\n",
       "    <tr>\n",
       "      <th>2013-07-24 04:00:00</th>\n",
       "      <td>-10.7</td>\n",
       "      <td>-17.1</td>\n",
       "      <td>1006.0</td>\n",
       "      <td>1.765</td>\n",
       "      <td>0</td>\n",
       "      <td>243.6</td>\n",
       "    </tr>\n",
       "    <tr>\n",
       "      <th>...</th>\n",
       "      <td>...</td>\n",
       "      <td>...</td>\n",
       "      <td>...</td>\n",
       "      <td>...</td>\n",
       "      <td>...</td>\n",
       "      <td>...</td>\n",
       "    </tr>\n",
       "    <tr>\n",
       "      <th>2017-06-30 19:00:00</th>\n",
       "      <td>-5.7</td>\n",
       "      <td>-18.6</td>\n",
       "      <td>998.0</td>\n",
       "      <td>233.595</td>\n",
       "      <td>0</td>\n",
       "      <td>204.6</td>\n",
       "    </tr>\n",
       "    <tr>\n",
       "      <th>2017-06-30 20:00:00</th>\n",
       "      <td>-5.7</td>\n",
       "      <td>-17.1</td>\n",
       "      <td>995.0</td>\n",
       "      <td>238.780</td>\n",
       "      <td>0</td>\n",
       "      <td>202.2</td>\n",
       "    </tr>\n",
       "    <tr>\n",
       "      <th>2017-06-30 21:00:00</th>\n",
       "      <td>-7.1</td>\n",
       "      <td>-19.3</td>\n",
       "      <td>1004.0</td>\n",
       "      <td>244.325</td>\n",
       "      <td>0</td>\n",
       "      <td>205.2</td>\n",
       "    </tr>\n",
       "    <tr>\n",
       "      <th>2017-06-30 22:00:00</th>\n",
       "      <td>-6.4</td>\n",
       "      <td>-19.3</td>\n",
       "      <td>1008.0</td>\n",
       "      <td>247.470</td>\n",
       "      <td>0</td>\n",
       "      <td>202.8</td>\n",
       "    </tr>\n",
       "    <tr>\n",
       "      <th>2017-06-30 23:00:00</th>\n",
       "      <td>-5.0</td>\n",
       "      <td>-16.4</td>\n",
       "      <td>1001.0</td>\n",
       "      <td>250.600</td>\n",
       "      <td>0</td>\n",
       "      <td>200.4</td>\n",
       "    </tr>\n",
       "  </tbody>\n",
       "</table>\n",
       "<p>8568 rows × 6 columns</p>\n",
       "</div>"
      ],
      "text/plain": [
       "                     temperature  var1  pressure  windspeed  var2  \\\n",
       "datetime                                                            \n",
       "2013-07-24 00:00:00        -10.0 -16.4    1011.0    263.280     0   \n",
       "2013-07-24 01:00:00        -10.0 -20.7    1011.0    267.175     0   \n",
       "2013-07-24 02:00:00        -10.7 -17.1    1003.0    269.555     0   \n",
       "2013-07-24 03:00:00        -13.6 -20.7    1008.0    273.060     0   \n",
       "2013-07-24 04:00:00        -10.7 -17.1    1006.0      1.765     0   \n",
       "...                          ...   ...       ...        ...   ...   \n",
       "2017-06-30 19:00:00         -5.7 -18.6     998.0    233.595     0   \n",
       "2017-06-30 20:00:00         -5.7 -17.1     995.0    238.780     0   \n",
       "2017-06-30 21:00:00         -7.1 -19.3    1004.0    244.325     0   \n",
       "2017-06-30 22:00:00         -6.4 -19.3    1008.0    247.470     0   \n",
       "2017-06-30 23:00:00         -5.0 -16.4    1001.0    250.600     0   \n",
       "\n",
       "                     consumption_predictions  \n",
       "datetime                                      \n",
       "2013-07-24 00:00:00                    205.8  \n",
       "2013-07-24 01:00:00                    204.0  \n",
       "2013-07-24 02:00:00                    201.6  \n",
       "2013-07-24 03:00:00                    199.8  \n",
       "2013-07-24 04:00:00                    243.6  \n",
       "...                                      ...  \n",
       "2017-06-30 19:00:00                    204.6  \n",
       "2017-06-30 20:00:00                    202.2  \n",
       "2017-06-30 21:00:00                    205.2  \n",
       "2017-06-30 22:00:00                    202.8  \n",
       "2017-06-30 23:00:00                    200.4  \n",
       "\n",
       "[8568 rows x 6 columns]"
      ]
     },
     "execution_count": 30,
     "metadata": {},
     "output_type": "execute_result"
    }
   ],
   "source": [
    "test_data"
   ]
  }
 ],
 "metadata": {
  "kernelspec": {
   "display_name": "Python 3.11.0 64-bit",
   "language": "python",
   "name": "python3"
  },
  "language_info": {
   "codemirror_mode": {
    "name": "ipython",
    "version": 3
   },
   "file_extension": ".py",
   "mimetype": "text/x-python",
   "name": "python",
   "nbconvert_exporter": "python",
   "pygments_lexer": "ipython3",
   "version": "3.11.0"
  },
  "vscode": {
   "interpreter": {
    "hash": "895965ff89e31dbb8817b13ea40d8d3de3483b91af9cca7b5616b48a8b2876f6"
   }
  }
 },
 "nbformat": 4,
 "nbformat_minor": 5
}
