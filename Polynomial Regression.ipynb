{
 "cells": [
  {
   "cell_type": "code",
   "execution_count": 167,
   "id": "01f305ce",
   "metadata": {},
   "outputs": [],
   "source": [
    "import pandas as pd\n",
    "import numpy as np\n",
    "from sklearn.linear_model import LinearRegression\n",
    "from sklearn.preprocessing import StandardScaler, PolynomialFeatures\n",
    "from sklearn.model_selection import TimeSeriesSplit\n",
    "from sklearn.metrics import r2_score"
   ]
  },
  {
   "cell_type": "code",
   "execution_count": 168,
   "id": "0f986bcd",
   "metadata": {},
   "outputs": [],
   "source": [
    "train_data = pd.read_csv('train.csv')\n",
    "test_data = pd.read_csv('test.csv')"
   ]
  },
  {
   "cell_type": "code",
   "execution_count": 169,
   "id": "badb8d4f",
   "metadata": {},
   "outputs": [],
   "source": [
    "z = {'A': 0, 'B': 1, 'C': 2}\n",
    "train_data.var2 = [z[item] for item in train_data.var2]\n",
    "test_data.var2 = [z[item] for item in test_data.var2]"
   ]
  },
  {
   "cell_type": "code",
   "execution_count": 170,
   "id": "c5bfd606",
   "metadata": {},
   "outputs": [
    {
     "data": {
      "text/plain": [
       "0    25239\n",
       "2     1040\n",
       "1      217\n",
       "Name: var2, dtype: int64"
      ]
     },
     "execution_count": 170,
     "metadata": {},
     "output_type": "execute_result"
    }
   ],
   "source": [
    "train_data['var2'].value_counts()"
   ]
  },
  {
   "cell_type": "code",
   "execution_count": 171,
   "id": "143b801a",
   "metadata": {},
   "outputs": [
    {
     "data": {
      "text/plain": [
       "0    8177\n",
       "2     324\n",
       "1      67\n",
       "Name: var2, dtype: int64"
      ]
     },
     "execution_count": 171,
     "metadata": {},
     "output_type": "execute_result"
    }
   ],
   "source": [
    "test_data['var2'].value_counts()"
   ]
  },
  {
   "cell_type": "code",
   "execution_count": 172,
   "id": "19c42ed4",
   "metadata": {},
   "outputs": [],
   "source": [
    "train_data['datetime'] = pd.to_datetime(train_data['datetime'])\n",
    "train_data.set_index('datetime', inplace=True)\n",
    "\n",
    "test_data['datetime'] = pd.to_datetime(test_data['datetime'])\n",
    "test_data.set_index('datetime', inplace=True)\n"
   ]
  },
  {
   "cell_type": "code",
   "execution_count": 173,
   "id": "ae58aa9f",
   "metadata": {},
   "outputs": [],
   "source": [
    "X = train_data.drop(['ID','electricity_consumption'], axis = 1)\n",
    "y = train_data['electricity_consumption']\n",
    "test_data = test_data.drop('ID', axis = 1)"
   ]
  },
  {
   "cell_type": "code",
   "execution_count": 174,
   "id": "a8d2f20f",
   "metadata": {},
   "outputs": [],
   "source": [
    "tscv = TimeSeriesSplit(n_splits = 100)\n",
    "scaler = StandardScaler()\n",
    "linear = LinearRegression()"
   ]
  },
  {
   "cell_type": "code",
   "execution_count": 175,
   "id": "f73c00ca",
   "metadata": {},
   "outputs": [],
   "source": [
    "poly_converter = PolynomialFeatures(degree = 2, include_bias=False)\n",
    "poly_features = poly_converter.fit_transform(X)\n",
    "poly_test = poly_converter.transform(test_data)"
   ]
  },
  {
   "cell_type": "code",
   "execution_count": 176,
   "id": "67a850ad",
   "metadata": {},
   "outputs": [],
   "source": [
    "for train_index, test_index in tscv.split(poly_features):\n",
    "    X_train, X_test = poly_features[train_index, :], poly_features[test_index,:]\n",
    "    y_train, y_test = y.iloc[train_index], y.iloc[test_index]\n",
    "    X_scaled_train = scaler.fit_transform(X_train)\n",
    "    X_scaled_test = scaler.transform(X_test)\n",
    "    linear.fit(X_scaled_train, y_train)"
   ]
  },
  {
   "cell_type": "code",
   "execution_count": 177,
   "id": "215c78ad",
   "metadata": {},
   "outputs": [
    {
     "name": "stdout",
     "output_type": "stream",
     "text": [
      "R2 Score: 0.5938099442559046\n"
     ]
    }
   ],
   "source": [
    "y_pred = linear.predict(X_scaled_test)\n",
    "R2 = r2_score(y_test, y_pred)\n",
    "print(f'R2 Score: {R2}')"
   ]
  },
  {
   "cell_type": "code",
   "execution_count": 178,
   "id": "a174566e",
   "metadata": {},
   "outputs": [],
   "source": [
    "test_pred = linear.predict(scaler.transform(poly_test))"
   ]
  },
  {
   "cell_type": "code",
   "execution_count": 179,
   "id": "663f7508",
   "metadata": {},
   "outputs": [],
   "source": [
    "test_data['consumption_predictions'] = test_pred"
   ]
  },
  {
   "cell_type": "code",
   "execution_count": 180,
   "id": "c374b420",
   "metadata": {},
   "outputs": [
    {
     "data": {
      "text/html": [
       "<div>\n",
       "<style scoped>\n",
       "    .dataframe tbody tr th:only-of-type {\n",
       "        vertical-align: middle;\n",
       "    }\n",
       "\n",
       "    .dataframe tbody tr th {\n",
       "        vertical-align: top;\n",
       "    }\n",
       "\n",
       "    .dataframe thead th {\n",
       "        text-align: right;\n",
       "    }\n",
       "</style>\n",
       "<table border=\"1\" class=\"dataframe\">\n",
       "  <thead>\n",
       "    <tr style=\"text-align: right;\">\n",
       "      <th></th>\n",
       "      <th>temperature</th>\n",
       "      <th>var1</th>\n",
       "      <th>pressure</th>\n",
       "      <th>windspeed</th>\n",
       "      <th>var2</th>\n",
       "      <th>consumption_predictions</th>\n",
       "    </tr>\n",
       "    <tr>\n",
       "      <th>datetime</th>\n",
       "      <th></th>\n",
       "      <th></th>\n",
       "      <th></th>\n",
       "      <th></th>\n",
       "      <th></th>\n",
       "      <th></th>\n",
       "    </tr>\n",
       "  </thead>\n",
       "  <tbody>\n",
       "    <tr>\n",
       "      <th>2013-07-24 00:00:00</th>\n",
       "      <td>-10.0</td>\n",
       "      <td>-16.4</td>\n",
       "      <td>1011.0</td>\n",
       "      <td>263.280</td>\n",
       "      <td>0</td>\n",
       "      <td>188.261363</td>\n",
       "    </tr>\n",
       "    <tr>\n",
       "      <th>2013-07-24 01:00:00</th>\n",
       "      <td>-10.0</td>\n",
       "      <td>-20.7</td>\n",
       "      <td>1011.0</td>\n",
       "      <td>267.175</td>\n",
       "      <td>0</td>\n",
       "      <td>160.363935</td>\n",
       "    </tr>\n",
       "    <tr>\n",
       "      <th>2013-07-24 02:00:00</th>\n",
       "      <td>-10.7</td>\n",
       "      <td>-17.1</td>\n",
       "      <td>1003.0</td>\n",
       "      <td>269.555</td>\n",
       "      <td>0</td>\n",
       "      <td>181.249577</td>\n",
       "    </tr>\n",
       "    <tr>\n",
       "      <th>2013-07-24 03:00:00</th>\n",
       "      <td>-13.6</td>\n",
       "      <td>-20.7</td>\n",
       "      <td>1008.0</td>\n",
       "      <td>273.060</td>\n",
       "      <td>0</td>\n",
       "      <td>160.030587</td>\n",
       "    </tr>\n",
       "    <tr>\n",
       "      <th>2013-07-24 04:00:00</th>\n",
       "      <td>-10.7</td>\n",
       "      <td>-17.1</td>\n",
       "      <td>1006.0</td>\n",
       "      <td>1.765</td>\n",
       "      <td>0</td>\n",
       "      <td>326.566008</td>\n",
       "    </tr>\n",
       "    <tr>\n",
       "      <th>...</th>\n",
       "      <td>...</td>\n",
       "      <td>...</td>\n",
       "      <td>...</td>\n",
       "      <td>...</td>\n",
       "      <td>...</td>\n",
       "      <td>...</td>\n",
       "    </tr>\n",
       "    <tr>\n",
       "      <th>2017-06-30 19:00:00</th>\n",
       "      <td>-5.7</td>\n",
       "      <td>-18.6</td>\n",
       "      <td>998.0</td>\n",
       "      <td>233.595</td>\n",
       "      <td>0</td>\n",
       "      <td>176.001496</td>\n",
       "    </tr>\n",
       "    <tr>\n",
       "      <th>2017-06-30 20:00:00</th>\n",
       "      <td>-5.7</td>\n",
       "      <td>-17.1</td>\n",
       "      <td>995.0</td>\n",
       "      <td>238.780</td>\n",
       "      <td>0</td>\n",
       "      <td>181.481247</td>\n",
       "    </tr>\n",
       "    <tr>\n",
       "      <th>2017-06-30 21:00:00</th>\n",
       "      <td>-7.1</td>\n",
       "      <td>-19.3</td>\n",
       "      <td>1004.0</td>\n",
       "      <td>244.325</td>\n",
       "      <td>0</td>\n",
       "      <td>171.387984</td>\n",
       "    </tr>\n",
       "    <tr>\n",
       "      <th>2017-06-30 22:00:00</th>\n",
       "      <td>-6.4</td>\n",
       "      <td>-19.3</td>\n",
       "      <td>1008.0</td>\n",
       "      <td>247.470</td>\n",
       "      <td>0</td>\n",
       "      <td>173.056602</td>\n",
       "    </tr>\n",
       "    <tr>\n",
       "      <th>2017-06-30 23:00:00</th>\n",
       "      <td>-5.0</td>\n",
       "      <td>-16.4</td>\n",
       "      <td>1001.0</td>\n",
       "      <td>250.600</td>\n",
       "      <td>0</td>\n",
       "      <td>187.976483</td>\n",
       "    </tr>\n",
       "  </tbody>\n",
       "</table>\n",
       "<p>8568 rows × 6 columns</p>\n",
       "</div>"
      ],
      "text/plain": [
       "                     temperature  var1  pressure  windspeed  var2  \\\n",
       "datetime                                                            \n",
       "2013-07-24 00:00:00        -10.0 -16.4    1011.0    263.280     0   \n",
       "2013-07-24 01:00:00        -10.0 -20.7    1011.0    267.175     0   \n",
       "2013-07-24 02:00:00        -10.7 -17.1    1003.0    269.555     0   \n",
       "2013-07-24 03:00:00        -13.6 -20.7    1008.0    273.060     0   \n",
       "2013-07-24 04:00:00        -10.7 -17.1    1006.0      1.765     0   \n",
       "...                          ...   ...       ...        ...   ...   \n",
       "2017-06-30 19:00:00         -5.7 -18.6     998.0    233.595     0   \n",
       "2017-06-30 20:00:00         -5.7 -17.1     995.0    238.780     0   \n",
       "2017-06-30 21:00:00         -7.1 -19.3    1004.0    244.325     0   \n",
       "2017-06-30 22:00:00         -6.4 -19.3    1008.0    247.470     0   \n",
       "2017-06-30 23:00:00         -5.0 -16.4    1001.0    250.600     0   \n",
       "\n",
       "                     consumption_predictions  \n",
       "datetime                                      \n",
       "2013-07-24 00:00:00               188.261363  \n",
       "2013-07-24 01:00:00               160.363935  \n",
       "2013-07-24 02:00:00               181.249577  \n",
       "2013-07-24 03:00:00               160.030587  \n",
       "2013-07-24 04:00:00               326.566008  \n",
       "...                                      ...  \n",
       "2017-06-30 19:00:00               176.001496  \n",
       "2017-06-30 20:00:00               181.481247  \n",
       "2017-06-30 21:00:00               171.387984  \n",
       "2017-06-30 22:00:00               173.056602  \n",
       "2017-06-30 23:00:00               187.976483  \n",
       "\n",
       "[8568 rows x 6 columns]"
      ]
     },
     "execution_count": 180,
     "metadata": {},
     "output_type": "execute_result"
    }
   ],
   "source": [
    "test_data"
   ]
  }
 ],
 "metadata": {
  "kernelspec": {
   "display_name": "Python 3.11.0 64-bit",
   "language": "python",
   "name": "python3"
  },
  "language_info": {
   "codemirror_mode": {
    "name": "ipython",
    "version": 3
   },
   "file_extension": ".py",
   "mimetype": "text/x-python",
   "name": "python",
   "nbconvert_exporter": "python",
   "pygments_lexer": "ipython3",
   "version": "3.11.0"
  },
  "vscode": {
   "interpreter": {
    "hash": "895965ff89e31dbb8817b13ea40d8d3de3483b91af9cca7b5616b48a8b2876f6"
   }
  }
 },
 "nbformat": 4,
 "nbformat_minor": 5
}
